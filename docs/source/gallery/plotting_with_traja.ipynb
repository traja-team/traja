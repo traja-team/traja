{
  "cells": [
    {
      "cell_type": "code",
      "execution_count": null,
      "metadata": {
        "collapsed": false
      },
      "outputs": [],
      "source": [
        "%matplotlib inline"
      ]
    },
    {
      "cell_type": "markdown",
      "metadata": {},
      "source": [
        "\nPlotting with traja\n-----------------------------------\n`traja  <https://traja.readthedocs.io>`_ is a Python\nlibrary providing a selection of easy-to-use spatial visualizations. It is\nbuilt on top of pandas and is designed to work with a range of libraries.\nFor more details on the library refer to its documentation.\nFirst we'll load in data using traja.\n\n"
      ]
    },
    {
      "cell_type": "code",
      "execution_count": null,
      "metadata": {
        "collapsed": false
      },
      "outputs": [],
      "source": [
        "import traja\n\ndf = traja.TrajaDataFrame({'x':[0,1,2,3,4],'y':[1,3,2,4,5]})"
      ]
    },
    {
      "cell_type": "markdown",
      "metadata": {},
      "source": [
        "Plotting with Traja\n=====================\n\nWe start out by plotting a basic sime series trajectory using the ``traja``\naccessor and ``.plot()`` method.\n\n"
      ]
    },
    {
      "cell_type": "code",
      "execution_count": null,
      "metadata": {
        "collapsed": false
      },
      "outputs": [],
      "source": [
        "df.traja.plot()"
      ]
    },
    {
      "cell_type": "markdown",
      "metadata": {},
      "source": [
        "Generate Random Walks\n=====================\n\nAlso, random walks can be generated using ``generate``.\n\n"
      ]
    },
    {
      "cell_type": "code",
      "execution_count": null,
      "metadata": {
        "collapsed": false
      },
      "outputs": [],
      "source": [
        "df = traja.generate(n=1000, fps=30)\ndf.traja.plot()"
      ]
    },
    {
      "cell_type": "markdown",
      "metadata": {},
      "source": [
        "Traja can re-scale data with any units\n\n"
      ]
    },
    {
      "cell_type": "code",
      "execution_count": null,
      "metadata": {
        "collapsed": false
      },
      "outputs": [],
      "source": [
        "df.traja.scale(100)\ndf.spatial_units='cm'\ndf.traja.plot()"
      ]
    },
    {
      "cell_type": "markdown",
      "metadata": {},
      "source": [
        "Rediscretize step lengths\n=========================\n\n``rediscretize`` method allows resampling the trajectory into an arbitrary step\nlength ``R``.\n\n"
      ]
    },
    {
      "cell_type": "code",
      "execution_count": null,
      "metadata": {
        "collapsed": false
      },
      "outputs": [],
      "source": [
        "rt = df.traja.rediscretize(R=5000)\nrt.traja.plot()"
      ]
    },
    {
      "cell_type": "markdown",
      "metadata": {},
      "source": [
        "Calculate derivatives\n=====================\n\nDerivatives can be calculated with ``derivatives`` and histograms can be\nplotted using pandas built-in :meth:`plot <pandas.pandas.DataFrame.plot>` method.\n\n"
      ]
    },
    {
      "cell_type": "code",
      "execution_count": null,
      "metadata": {
        "collapsed": false
      },
      "outputs": [],
      "source": [
        "derivs = df.traja.get_derivatives()\nspeed = derivs['speed']\nspeed.hist()"
      ]
    },
    {
      "cell_type": "markdown",
      "metadata": {},
      "source": [
        "Again, these are just some of the plots you can make with Traja. There are\nseveral other possibilities not covered in this brief introduction. For more\nexamples, refer to the\n`Gallery <https://traja.readthedocs.io/en/latest/gallery/index.html>`_ in the\ntraja  documentation.\n\n"
      ]
    }
  ],
  "metadata": {
    "kernelspec": {
      "display_name": "Python 3",
      "language": "python",
      "name": "python3"
    },
    "language_info": {
      "codemirror_mode": {
        "name": "ipython",
        "version": 3
      },
      "file_extension": ".py",
      "mimetype": "text/x-python",
      "name": "python",
      "nbconvert_exporter": "python",
      "pygments_lexer": "ipython3",
      "version": "3.6.8"
    }
  },
  "nbformat": 4,
  "nbformat_minor": 0
}