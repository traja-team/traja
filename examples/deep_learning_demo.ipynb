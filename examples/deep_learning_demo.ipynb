{
 "cells": [
  {
   "cell_type": "markdown",
   "metadata": {},
   "source": [
    "# Traja Deep Learning Features Demo\n",
    "\n",
    "This notebook demonstrates the new deep learning features added to traja:\n",
    "\n",
    "1. **3D Trajectory Support** - x, y, z coordinates\n",
    "2. **GPS/Lat-Long Support** - Convert GPS to local coordinates\n",
    "3. **Data Augmentation** - Rotation, noise, scaling, reversal, subsampling\n",
    "4. **Sequence Utilities** - Padding, truncation, normalization\n",
    "5. **Feature Extraction** - ML-ready features\n",
    "6. **PyTorch Integration** - Tensor conversion\n",
    "7. **Train/Val/Test Split** - Dataset splitting for DL\n",
    "\n",
    "We'll use the public jaguar tracking dataset to demonstrate these features."
   ]
  },
  {
   "cell_type": "code",
   "execution_count": null,
   "metadata": {},
   "outputs": [],
   "source": [
    "import numpy as np\n",
    "import pandas as pd\n",
    "import matplotlib.pyplot as plt\n",
    "import traja\n",
    "from traja.dataset import example\n",
    "\n",
    "# Set random seed for reproducibility\n",
    "np.random.seed(42)"
   ]
  },
  {
   "cell_type": "markdown",
   "metadata": {},
   "source": [
    "## Load Public Dataset: Jaguar Tracking Data"
   ]
  },
  {
   "cell_type": "code",
   "execution_count": null,
   "metadata": {},
   "outputs": [],
   "source": [
    "# Load jaguar movement data\n",
    "df = example.jaguar()\n",
    "print(f\"Dataset shape: {df.shape}\")\n",
    "print(f\"\\nColumns: {df.columns.tolist()}\")\n",
    "df.head()"
   ]
  },
  {
   "cell_type": "code",
   "execution_count": null,
   "metadata": {},
   "outputs": [],
   "source": [
    "# Convert to TrajaDataFrame\n",
    "# Assuming columns contain x, y coordinates (adapt column names as needed)\n",
    "traj = traja.from_df(df)\n",
    "print(f\"\\nTrajectory shape: {traj.shape}\")\n",
    "print(f\"Trajectory summary:\")\n",
    "print(traj.traja.summary())"
   ]
  },
  {
   "cell_type": "code",
   "execution_count": null,
   "metadata": {},
   "outputs": [],
   "source": [
    "# Plot original trajectory\n",
    "traja.plot(traj, title=\"Original Jaguar Trajectory\")\n",
    "plt.show()"
   ]
  },
  {
   "cell_type": "markdown",
   "metadata": {},
   "source": [
    "## 1. Data Augmentation for Deep Learning\n",
    "\n",
    "Data augmentation is essential for training robust deep learning models. Traja now provides several augmentation methods:"
   ]
  },
  {
   "cell_type": "code",
   "execution_count": null,
   "metadata": {},
   "outputs": [],
   "source": [
    "# Create a shorter trajectory for visualization\n",
    "traj_short = traj.iloc[:200].copy()\n",
    "\n",
    "fig, axes = plt.subplots(2, 3, figsize=(15, 10))\n",
    "\n",
    "# Original\n",
    "traja.plot(traj_short, ax=axes[0, 0], title=\"Original\")\n",
    "\n",
    "# Rotation augmentation\n",
    "traj_rotated = traj_short.traja.augment_rotate(angle=45)\n",
    "traja.plot(traj_rotated, ax=axes[0, 1], title=\"Rotated 45°\")\n",
    "\n",
    "# Noise augmentation\n",
    "traj_noisy = traj_short.traja.augment_noise(sigma=0.05)\n",
    "traja.plot(traj_noisy, ax=axes[0, 2], title=\"Added Gaussian Noise\")\n",
    "\n",
    "# Scale augmentation\n",
    "traj_scaled = traj_short.traja.augment_scale(factor=1.5)\n",
    "traja.plot(traj_scaled, ax=axes[1, 0], title=\"Scaled 1.5x\")\n",
    "\n",
    "# Reverse augmentation\n",
    "traj_reversed = traj_short.traja.augment_reverse()\n",
    "traja.plot(traj_reversed, ax=axes[1, 1], title=\"Time-Reversed\")\n",
    "\n",
    "# Subsample augmentation\n",
    "traj_subsampled = traj_short.traja.augment_subsample(step=3)\n",
    "traja.plot(traj_subsampled, ax=axes[1, 2], title=\"Subsampled (every 3rd point)\")\n",
    "\n",
    "plt.tight_layout()\n",
    "plt.show()\n",
    "\n",
    "print(\"Augmentation examples created successfully!\")"
   ]
  },
  {
   "cell_type": "markdown",
   "metadata": {},
   "source": [
    "## 2. Sequence Padding and Truncation\n",
    "\n",
    "For batching variable-length trajectories in deep learning, we need consistent sequence lengths:"
   ]
  },
  {
   "cell_type": "code",
   "execution_count": null,
   "metadata": {},
   "outputs": [],
   "source": [
    "# Create trajectories of different lengths\n",
    "traj1 = traj.iloc[:50]\n",
    "traj2 = traj.iloc[:100]\n",
    "traj3 = traj.iloc[:150]\n",
    "\n",
    "print(f\"Original lengths: {len(traj1)}, {len(traj2)}, {len(traj3)}\")\n",
    "\n",
    "# Pad shorter trajectories to target length\n",
    "target_length = 150\n",
    "traj1_padded = traj1.traja.pad_trajectory(target_length, mode='edge')\n",
    "traj2_padded = traj2.traja.pad_trajectory(target_length, mode='edge')\n",
    "\n",
    "print(f\"After padding: {len(traj1_padded)}, {len(traj2_padded)}, {len(traj3)}\")\n",
    "\n",
    "# Truncate longer trajectory\n",
    "target_length = 100\n",
    "traj3_truncated = traj3.traja.truncate_trajectory(target_length, mode='end')\n",
    "\n",
    "print(f\"After truncation: {len(traj3_truncated)}\")\n",
    "\n",
    "# Visualize padding effect\n",
    "fig, axes = plt.subplots(1, 2, figsize=(12, 5))\n",
    "traja.plot(traj1, ax=axes[0], title=f\"Original ({len(traj1)} points)\")\n",
    "traja.plot(traj1_padded, ax=axes[1], title=f\"Padded ({len(traj1_padded)} points)\")\n",
    "plt.tight_layout()\n",
    "plt.show()"
   ]
  },
  {
   "cell_type": "markdown",
   "metadata": {},
   "source": [
    "## 3. Feature Extraction for Machine Learning"
   ]
  },
  {
   "cell_type": "code",
   "execution_count": null,
   "metadata": {},
   "outputs": [],
   "source": [
    "# Extract ML-ready features\n",
    "features = traj_short.traja.extract_features()\n",
    "\n",
    "print(\"Extracted features:\")\n",
    "print(features.head(10))\n",
    "print(f\"\\nFeature columns: {features.columns.tolist()}\")\n",
    "print(f\"Feature shape: {features.shape}\")\n",
    "\n",
    "# Plot some features\n",
    "fig, axes = plt.subplots(2, 2, figsize=(12, 8))\n",
    "\n",
    "features['displacement'].plot(ax=axes[0, 0], title='Displacement')\n",
    "axes[0, 0].set_xlabel('Time step')\n",
    "\n",
    "if 'speed' in features.columns:\n",
    "    features['speed'].plot(ax=axes[0, 1], title='Speed')\n",
    "    axes[0, 1].set_xlabel('Time step')\n",
    "\n",
    "if 'turn_angle' in features.columns:\n",
    "    features['turn_angle'].plot(ax=axes[1, 0], title='Turn Angle')\n",
    "    axes[1, 0].set_xlabel('Time step')\n",
    "\n",
    "if 'acceleration' in features.columns:\n",
    "    features['acceleration'].plot(ax=axes[1, 1], title='Acceleration')\n",
    "    axes[1, 1].set_xlabel('Time step')\n",
    "\n",
    "plt.tight_layout()\n",
    "plt.show()"
   ]
  },
  {
   "cell_type": "markdown",
   "metadata": {},
   "source": [
    "## 4. Normalization for Deep Learning"
   ]
  },
  {
   "cell_type": "code",
   "execution_count": null,
   "metadata": {},
   "outputs": [],
   "source": [
    "# Normalize trajectory (center and scale)\n",
    "traj_normalized = traj_short.traja.normalize_trajectory(scale=True, center=True)\n",
    "\n",
    "fig, axes = plt.subplots(1, 2, figsize=(12, 5))\n",
    "\n",
    "traja.plot(traj_short, ax=axes[0], title=\"Original\")\n",
    "traja.plot(traj_normalized, ax=axes[1], title=\"Normalized (centered & scaled)\")\n",
    "\n",
    "plt.tight_layout()\n",
    "plt.show()\n",
    "\n",
    "print(\"Original statistics:\")\n",
    "print(f\"X: mean={traj_short.x.mean():.2f}, std={traj_short.x.std():.2f}\")\n",
    "print(f\"Y: mean={traj_short.y.mean():.2f}, std={traj_short.y.std():.2f}\")\n",
    "\n",
    "print(\"\\nNormalized statistics:\")\n",
    "print(f\"X: mean={traj_normalized.x.mean():.2e}, std={traj_normalized.x.std():.2f}\")\n",
    "print(f\"Y: mean={traj_normalized.y.mean():.2e}, std={traj_normalized.y.std():.2f}\")"
   ]
  },
  {
   "cell_type": "markdown",
   "metadata": {},
   "source": [
    "## 5. PyTorch Tensor Conversion"
   ]
  },
  {
   "cell_type": "code",
   "execution_count": null,
   "metadata": {},
   "outputs": [],
   "source": [
    "# Convert to PyTorch tensor (requires PyTorch installation)\n",
    "try:\n",
    "    import torch\n",
    "    tensor = traj_short.traja.to_tensor()\n",
    "    print(f\"Tensor shape: {tensor.shape}\")\n",
    "    print(f\"Tensor dtype: {tensor.dtype}\")\n",
    "    print(f\"\\nFirst 5 points:\")\n",
    "    print(tensor[:5])\n",
    "except ImportError:\n",
    "    print(\"PyTorch not installed. Install with: pip install torch\")\n",
    "    # Returns numpy array instead\n",
    "    array = traj_short.traja.to_tensor()\n",
    "    print(f\"\\nReturned numpy array shape: {array.shape}\")\n",
    "    print(f\"Array dtype: {array.dtype}\")"
   ]
  },
  {
   "cell_type": "markdown",
   "metadata": {},
   "source": [
    "## 6. Train/Val/Test Split for Deep Learning"
   ]
  },
  {
   "cell_type": "code",
   "execution_count": null,
   "metadata": {},
   "outputs": [],
   "source": [
    "# Create multiple trajectories by splitting the full trajectory\n",
    "# Each trajectory will be a segment of 100 points\n",
    "segment_length = 100\n",
    "trajectories = []\n",
    "\n",
    "for i in range(0, len(traj) - segment_length, segment_length // 2):\n",
    "    segment = traj.iloc[i:i + segment_length].reset_index(drop=True)\n",
    "    trajectories.append(segment)\n",
    "\n",
    "print(f\"Created {len(trajectories)} trajectory segments\")\n",
    "\n",
    "# Split into train/val/test sets\n",
    "train_trajs, val_trajs, test_trajs = traja.trajectory.train_test_split(\n",
    "    trajectories,\n",
    "    train_size=0.7,\n",
    "    val_size=0.15,\n",
    "    test_size=0.15,\n",
    "    shuffle=True,\n",
    "    random_state=42\n",
    ")\n",
    "\n",
    "print(f\"\\nTrain set: {len(train_trajs)} trajectories\")\n",
    "print(f\"Validation set: {len(val_trajs)} trajectories\")\n",
    "print(f\"Test set: {len(test_trajs)} trajectories\")\n",
    "\n",
    "# Visualize some training examples\n",
    "fig, axes = plt.subplots(2, 3, figsize=(15, 10))\n",
    "axes = axes.flatten()\n",
    "\n",
    "for i, traj_example in enumerate(train_trajs[:6]):\n",
    "    traja.plot(traj_example, ax=axes[i], title=f\"Train Example {i+1}\")\n",
    "\n",
    "plt.tight_layout()\n",
    "plt.show()"
   ]
  },
  {
   "cell_type": "markdown",
   "metadata": {},
   "source": [
    "## 7. Complete Deep Learning Pipeline Example"
   ]
  },
  {
   "cell_type": "code",
   "execution_count": null,
   "metadata": {},
   "outputs": [],
   "source": [
    "# Demonstrate a complete preprocessing pipeline for deep learning\n",
    "\n",
    "def preprocess_for_dl(traj, target_length=100, augment=True):\n",
    "    \"\"\"Complete preprocessing pipeline for deep learning.\"\"\"\n",
    "    \n",
    "    # 1. Normalize\n",
    "    traj = traj.traja.normalize_trajectory()\n",
    "    \n",
    "    # 2. Pad or truncate to target length\n",
    "    if len(traj) < target_length:\n",
    "        traj = traj.traja.pad_trajectory(target_length, mode='edge')\n",
    "    elif len(traj) > target_length:\n",
    "        traj = traj.traja.truncate_trajectory(target_length, mode='random')\n",
    "    \n",
    "    # 3. Optional augmentation\n",
    "    if augment:\n",
    "        # Randomly apply augmentations\n",
    "        if np.random.random() < 0.5:\n",
    "            traj = traj.traja.augment_rotate()  # Random rotation\n",
    "        if np.random.random() < 0.3:\n",
    "            traj = traj.traja.augment_noise(sigma=0.05)\n",
    "        if np.random.random() < 0.3:\n",
    "            traj = traj.traja.augment_scale()  # Random scaling\n",
    "    \n",
    "    # 4. Convert to tensor\n",
    "    tensor = traj.traja.to_tensor()\n",
    "    \n",
    "    return tensor\n",
    "\n",
    "# Process training trajectories\n",
    "print(\"Preprocessing training data...\")\n",
    "train_tensors = [preprocess_for_dl(t, augment=True) for t in train_trajs[:10]]\n",
    "\n",
    "print(f\"Processed {len(train_tensors)} training examples\")\n",
    "print(f\"Tensor shape: {train_tensors[0].shape if hasattr(train_tensors[0], 'shape') else np.array(train_tensors[0]).shape}\")\n",
    "\n",
    "# Process validation trajectories (no augmentation)\n",
    "print(\"\\nPreprocessing validation data...\")\n",
    "val_tensors = [preprocess_for_dl(t, augment=False) for t in val_trajs]\n",
    "\n",
    "print(f\"Processed {len(val_tensors)} validation examples\")\n",
    "\n",
    "print(\"\\n✓ Data ready for deep learning model training!\")"
   ]
  },
  {
   "cell_type": "markdown",
   "metadata": {},
   "source": [
    "## 8. GPS/Lat-Long Support (Bonus Demo)"
   ]
  },
  {
   "cell_type": "code",
   "execution_count": null,
   "metadata": {},
   "outputs": [],
   "source": [
    "# Create synthetic GPS coordinates\n",
    "# (For real data, you would load actual lat/lon values)\n",
    "n_points = 100\n",
    "lat = np.linspace(40.7128, 40.7528, n_points) + np.random.normal(0, 0.001, n_points)\n",
    "lon = np.linspace(-74.0060, -73.9660, n_points) + np.random.normal(0, 0.001, n_points)\n",
    "\n",
    "print(\"Sample GPS coordinates:\")\n",
    "print(f\"Latitude range: [{lat.min():.4f}, {lat.max():.4f}]\")\n",
    "print(f\"Longitude range: [{lon.min():.4f}, {lon.max():.4f}]\")\n",
    "\n",
    "# Convert GPS to local x,y coordinates in meters\n",
    "traj_gps = traja.from_latlon(lat, lon)\n",
    "\n",
    "print(f\"\\nConverted to local coordinates:\")\n",
    "print(f\"X range: [{traj_gps.x.min():.2f}, {traj_gps.x.max():.2f}] meters\")\n",
    "print(f\"Y range: [{traj_gps.y.min():.2f}, {traj_gps.y.max():.2f}] meters\")\n",
    "\n",
    "# Plot\n",
    "traja.plot(traj_gps, title=\"GPS Trajectory (converted to local x,y)\")\n",
    "plt.xlabel(\"East-West (meters)\")\n",
    "plt.ylabel(\"North-South (meters)\")\n",
    "plt.show()\n",
    "\n",
    "# Original lat/lon columns are preserved\n",
    "print(\"\\nDataFrame contains both GPS and local coordinates:\")\n",
    "print(traj_gps[['lat', 'lon', 'x', 'y']].head())"
   ]
  },
  {
   "cell_type": "markdown",
   "metadata": {},
   "source": [
    "## Summary\n",
    "\n",
    "This demo showcased all the new deep learning features in traja:\n",
    "\n",
    "1. ✓ **Data Augmentation**: Rotation, noise, scaling, reversal, subsampling\n",
    "2. ✓ **Sequence Processing**: Padding, truncation, normalization\n",
    "3. ✓ **Feature Extraction**: Automatic ML feature generation\n",
    "4. ✓ **PyTorch Integration**: Easy tensor conversion\n",
    "5. ✓ **Dataset Splitting**: Train/val/test split utility\n",
    "6. ✓ **GPS Support**: Lat/lon to local coordinate conversion\n",
    "\n",
    "These features make traja production-ready for deep learning applications on trajectory data!"
   ]
  }
 ],
 "metadata": {
  "kernelspec": {
   "display_name": "Python 3",
   "language": "python",
   "name": "python3"
  },
  "language_info": {
   "codemirror_mode": {
    "name": "ipython",
    "version": 3
   },
   "file_extension": ".py",
   "mimetype": "text/x-python",
   "name": "python",
   "nbconvert_exporter": "python",
   "pygments_lexer": "ipython3",
   "version": "3.8.0"
  }
 },
 "nbformat": 4,
 "nbformat_minor": 4
}
